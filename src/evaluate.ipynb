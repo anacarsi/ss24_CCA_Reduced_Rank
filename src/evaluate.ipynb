{
 "cells": [
  {
   "cell_type": "markdown",
   "metadata": {},
   "source": [
    "## Evaluation of Geometric and Standard Methods"
   ]
  },
  {
   "cell_type": "code",
   "execution_count": 1,
   "metadata": {},
   "outputs": [
    {
     "name": "stdout",
     "output_type": "stream",
     "text": [
      "Wrote to file\n"
     ]
    }
   ],
   "source": [
    "from ccaman.ccaman import CCAMan\n",
    "\n",
    "ccaman = CCAMan()\n",
    "ccaman.analyze()"
   ]
  },
  {
   "cell_type": "code",
   "execution_count": 25,
   "metadata": {},
   "outputs": [
    {
     "name": "stdout",
     "output_type": "stream",
     "text": [
      "                     AU565     HCC1143     HCC1395     HCC1419     HCC1428  \\\n",
      "EnsEMBL_Gene_ID                                                              \n",
      "ENSG00000000003  13.460144  216.930143   96.785401    6.847876   43.965782   \n",
      "ENSG00000001167  68.907655  285.900419  347.992398   98.756895  162.757442   \n",
      "ENSG00000005471   2.976117    0.000000    0.054333    2.402739    2.713846   \n",
      "ENSG00000066629  15.084108   16.952487   97.143133   34.884041   79.282346   \n",
      "ENSG00000154258   0.000000    0.102304    0.207510    0.097948    0.000000   \n",
      "...                    ...         ...         ...         ...         ...   \n",
      "ENSG00000154229  51.196873   51.165867   80.279190    1.276649    1.676753   \n",
      "ENSG00000154237   3.121563   38.674515    2.983126   33.744973    4.347457   \n",
      "ENSG00000154240   0.222417   48.908626    2.149875    0.000000    0.689206   \n",
      "ENSG00000154251   0.224694   40.042918   24.033986   82.585739   63.944153   \n",
      "ENSG00000154252   3.185827    0.000000    0.000000  144.835135    1.103798   \n",
      "\n",
      "                    HCC1569     HCC1599     HCC1937     HCC1954      HCC202  \\\n",
      "EnsEMBL_Gene_ID                                                               \n",
      "ENSG00000000003   81.016646  127.931890  116.116028  205.828374   56.528477   \n",
      "ENSG00000001167  171.174644  178.182868   97.914807  121.713189  159.090977   \n",
      "ENSG00000005471    0.000000    0.000000    0.000000    0.000000    1.785215   \n",
      "ENSG00000066629    5.715138    4.279709    7.942682    8.445202    0.000000   \n",
      "ENSG00000154258    0.000000    0.000000    0.000000    0.000000    0.000000   \n",
      "...                     ...         ...         ...         ...         ...   \n",
      "ENSG00000154229   10.069155   13.259676   27.117553   96.246497    0.573040   \n",
      "ENSG00000154237   61.894713   52.586558   10.024887    1.641429    1.428991   \n",
      "ENSG00000154240    5.865876    0.592121    0.702402    6.409879    0.000000   \n",
      "ENSG00000154251   18.969864   18.230773   11.800600   21.106590   52.362196   \n",
      "ENSG00000154252    4.155306    0.393215    0.000000    0.489590   11.197189   \n",
      "\n",
      "                    HCC2218       HCC38       HCC70        MCF7       T47D  \n",
      "EnsEMBL_Gene_ID                                                             \n",
      "ENSG00000000003   11.545379  177.063851  328.480912   72.337418  82.748694  \n",
      "ENSG00000001167   74.812714   89.272716   87.330602  147.767779  61.650437  \n",
      "ENSG00000005471    0.000000    0.000000    0.000000    7.340564   1.261100  \n",
      "ENSG00000066629   20.459178  170.628817    0.076616   47.297806  74.463574  \n",
      "ENSG00000154258    0.000000    0.088999    0.000000    0.061024   0.000000  \n",
      "...                     ...         ...         ...         ...        ...  \n",
      "ENSG00000154229   27.743434  267.381590    8.007078   15.253004  12.301795  \n",
      "ENSG00000154237    1.547598    7.787267   14.694211    1.291870  23.877050  \n",
      "ENSG00000154240    0.000000   30.078040    5.048304    2.040392   8.358125  \n",
      "ENSG00000154251    0.497438   18.098463   27.821312  115.491306  37.632682  \n",
      "ENSG00000154252  133.269544    0.000000    0.118796    0.658071   5.453569  \n",
      "\n",
      "[36953 rows x 15 columns]\n"
     ]
    }
   ],
   "source": [
    "print(ccaman.genes_to_cellline)"
   ]
  },
  {
   "cell_type": "code",
   "execution_count": null,
   "metadata": {},
   "outputs": [
    {
     "data": {
      "text/html": [
       "<div>\n",
       "<style scoped>\n",
       "    .dataframe tbody tr th:only-of-type {\n",
       "        vertical-align: middle;\n",
       "    }\n",
       "\n",
       "    .dataframe tbody tr th {\n",
       "        vertical-align: top;\n",
       "    }\n",
       "\n",
       "    .dataframe thead th {\n",
       "        text-align: right;\n",
       "    }\n",
       "</style>\n",
       "<table border=\"1\" class=\"dataframe\">\n",
       "  <thead>\n",
       "    <tr style=\"text-align: right;\">\n",
       "      <th></th>\n",
       "      <th>Cell Line</th>\n",
       "      <th>Drug Name</th>\n",
       "      <th>Z Score</th>\n",
       "    </tr>\n",
       "  </thead>\n",
       "  <tbody>\n",
       "    <tr>\n",
       "      <th>0</th>\n",
       "      <td>AU565</td>\n",
       "      <td>Lapatinib</td>\n",
       "      <td>-2.583650</td>\n",
       "    </tr>\n",
       "    <tr>\n",
       "      <th>1</th>\n",
       "      <td>AU565</td>\n",
       "      <td>Alpelisib</td>\n",
       "      <td>-0.925285</td>\n",
       "    </tr>\n",
       "    <tr>\n",
       "      <th>2</th>\n",
       "      <td>AU565</td>\n",
       "      <td>Tamoxifen</td>\n",
       "      <td>-0.872274</td>\n",
       "    </tr>\n",
       "    <tr>\n",
       "      <th>3</th>\n",
       "      <td>AU565</td>\n",
       "      <td>Palbociclib</td>\n",
       "      <td>-0.147910</td>\n",
       "    </tr>\n",
       "    <tr>\n",
       "      <th>4</th>\n",
       "      <td>AU565</td>\n",
       "      <td>Olaparib</td>\n",
       "      <td>0.179425</td>\n",
       "    </tr>\n",
       "    <tr>\n",
       "      <th>...</th>\n",
       "      <td>...</td>\n",
       "      <td>...</td>\n",
       "      <td>...</td>\n",
       "    </tr>\n",
       "    <tr>\n",
       "      <th>71</th>\n",
       "      <td>T47D</td>\n",
       "      <td>Alpelisib</td>\n",
       "      <td>-1.311439</td>\n",
       "    </tr>\n",
       "    <tr>\n",
       "      <th>72</th>\n",
       "      <td>T47D</td>\n",
       "      <td>Tamoxifen</td>\n",
       "      <td>-1.245510</td>\n",
       "    </tr>\n",
       "    <tr>\n",
       "      <th>73</th>\n",
       "      <td>T47D</td>\n",
       "      <td>Lapatinib</td>\n",
       "      <td>-0.146497</td>\n",
       "    </tr>\n",
       "    <tr>\n",
       "      <th>74</th>\n",
       "      <td>T47D</td>\n",
       "      <td>Palbociclib</td>\n",
       "      <td>-0.131184</td>\n",
       "    </tr>\n",
       "    <tr>\n",
       "      <th>75</th>\n",
       "      <td>T47D</td>\n",
       "      <td>Olaparib</td>\n",
       "      <td>0.309435</td>\n",
       "    </tr>\n",
       "  </tbody>\n",
       "</table>\n",
       "<p>76 rows × 3 columns</p>\n",
       "</div>"
      ],
      "text/plain": [
       "   Cell Line    Drug Name   Z Score\n",
       "0      AU565    Lapatinib -2.583650\n",
       "1      AU565    Alpelisib -0.925285\n",
       "2      AU565    Tamoxifen -0.872274\n",
       "3      AU565  Palbociclib -0.147910\n",
       "4      AU565     Olaparib  0.179425\n",
       "..       ...          ...       ...\n",
       "71      T47D    Alpelisib -1.311439\n",
       "72      T47D    Tamoxifen -1.245510\n",
       "73      T47D    Lapatinib -0.146497\n",
       "74      T47D  Palbociclib -0.131184\n",
       "75      T47D     Olaparib  0.309435\n",
       "\n",
       "[76 rows x 3 columns]"
      ]
     },
     "execution_count": 17,
     "metadata": {},
     "output_type": "execute_result"
    }
   ],
   "source": [
    "import numpy as np\n",
    "import pandas as pd\n",
    "from sklearn.cross_decomposition import CCA\n",
    "from sklearn.preprocessing import StandardScaler\n",
    "import matplotlib.pyplot as plt\n",
    "\n",
    "ccaman.sensitivity_data"
   ]
  },
  {
   "cell_type": "code",
   "execution_count": 27,
   "metadata": {},
   "outputs": [
    {
     "name": "stdout",
     "output_type": "stream",
     "text": [
      "   Cell Line   Z Score\n",
      "0      AU565 -2.583650\n",
      "5    HCC1143 -0.756084\n",
      "11   HCC1395 -0.679557\n",
      "15   HCC1419 -1.251459\n",
      "20   HCC1428  0.298439\n",
      "26   HCC1569 -0.774573\n",
      "31   HCC1599 -0.383583\n",
      "36  HCC18064 -0.863270\n",
      "40   HCC1937 -0.380178\n",
      "46   HCC1954 -0.930000\n",
      "51   HCC2218 -2.656450\n",
      "57     HCC38 -0.112642\n",
      "61     HCC70 -0.142058\n",
      "68      MCF7 -0.553821\n",
      "73      T47D -0.146497\n"
     ]
    }
   ],
   "source": [
    "# Select the Z scores for the first medicament: Lapatinib\n",
    "lapatinib = ccaman.sensitivity_data.loc[\n",
    "    ccaman.sensitivity_data[\"Drug Name\"] == \"Lapatinib\"\n",
    "]\n",
    "# Elininate the second column\n",
    "lapatinib = lapatinib.drop(columns=[\"Drug Name\"])\n",
    "print(lapatinib)"
   ]
  },
  {
   "cell_type": "code",
   "execution_count": 44,
   "metadata": {},
   "outputs": [
    {
     "data": {
      "text/plain": [
       "(15, 1)"
      ]
     },
     "execution_count": 44,
     "metadata": {},
     "output_type": "execute_result"
    }
   ],
   "source": [
    "# Make our Y matrix for CCA be the Z scores for Lapatinib\n",
    "Y = lapatinib.iloc[:, 1:]  # For CCA we only need the Z scores\n",
    "Y.shape"
   ]
  },
  {
   "cell_type": "code",
   "execution_count": null,
   "metadata": {},
   "outputs": [
    {
     "data": {
      "text/plain": [
       "(1, 15)"
      ]
     },
     "execution_count": 22,
     "metadata": {},
     "output_type": "execute_result"
    }
   ],
   "source": [
    "X = ccaman.genes_to_cellline.T  # Shape becomes (15 cell lines x 36953 genes)"
   ]
  },
  {
   "cell_type": "code",
   "execution_count": 45,
   "metadata": {},
   "outputs": [],
   "source": [
    "scaler_X = StandardScaler()\n",
    "scaler_Y = StandardScaler()\n",
    "\n",
    "X_scaled = scaler_X.fit_transform(X)  # Standardize gene expression\n",
    "Y_scaled = scaler_Y.fit_transform(Y)  # Standardize Z-scores"
   ]
  },
  {
   "cell_type": "code",
   "execution_count": 47,
   "metadata": {},
   "outputs": [
    {
     "name": "stdout",
     "output_type": "stream",
     "text": [
      "Canonical Correlation: 0.9999999999999997\n"
     ]
    }
   ],
   "source": [
    "cca = CCA(n_components=1)  # We only need the first component for analysis\n",
    "cca.fit(X_scaled, Y_scaled)\n",
    "\n",
    "X_c, Y_c = cca.transform(X_scaled, Y_scaled)  # Canonical components\n",
    "correlation = np.corrcoef(X_c.T, Y_c.T)[0, 1]\n",
    "print(f\"Canonical Correlation: {correlation}\")"
   ]
  },
  {
   "cell_type": "code",
   "execution_count": 48,
   "metadata": {},
   "outputs": [
    {
     "name": "stdout",
     "output_type": "stream",
     "text": [
      "Top contributing genes: [34907 32344  3022  1685 27913 12846 10040 12189 30292 33101]\n"
     ]
    }
   ],
   "source": [
    "gene_weights = cca.x_weights_[:, 0]  # Weights of genes in the first component\n",
    "important_genes = np.argsort(np.abs(gene_weights))[::-1][:10]  # Top 10 genes\n",
    "print(\"Top contributing genes:\", important_genes)"
   ]
  },
  {
   "cell_type": "code",
   "execution_count": 49,
   "metadata": {},
   "outputs": [
    {
     "data": {
      "image/png": "[encoded data removed]",
      "text/plain": [
       "<Figure size 640x480 with 1 Axes>"
      ]
     },
     "metadata": {},
     "output_type": "display_data"
    }
   ],
   "source": [
    "plt.scatter(X_c, Y_c, alpha=0.7)\n",
    "plt.xlabel(\"Canonical Component 1 (Genes)\")\n",
    "plt.ylabel(\"Canonical Component 1 (Z-Scores)\")\n",
    "plt.title(\"CCA: Gene Expression vs Drug Sensitivity (Lapatinib)\")\n",
    "plt.show()"
   ]
  },
  {
   "cell_type": "code",
   "execution_count": null,
   "metadata": {},
   "outputs": [],
   "source": [
    "# Pivot sensitivity data to have drugs as columns and cell lines as rows\n",
    "sensitivity_pivot = ccaman.sensitivity_data.pivot(\n",
    "    index=\"Cell Line\", columns=\"Drug Name\", values=\"Z Score\"\n",
    ")\n",
    "sensitivity_pivot\n",
    "# Align the gene expression data and drug sensitivity data by cell lines\n",
    "gene_expression = (\n",
    "    ccaman.genes_to_cellline.T\n",
    ")  # transpose because the genes are in the rows\n",
    "common_cell_lines = sensitivity_pivot.index.intersection(gene_expression.index)\n",
    "sensitivity_pivot = sensitivity_pivot.loc[common_cell_lines]\n",
    "gene_expression = gene_expression.loc[common_cell_lines]\n",
    "\n",
    "# Normalize both datasets\n",
    "scaler = StandardScaler()\n",
    "X = scaler.fit_transform(gene_expression)  # Gene expression data\n",
    "Y = scaler.fit_transform(sensitivity_pivot)  # Z Scores"
   ]
  },
  {
   "cell_type": "code",
   "execution_count": 4,
   "metadata": {},
   "outputs": [
    {
     "data": {
      "text/html": [
       "<div>\n",
       "<style scoped>\n",
       "    .dataframe tbody tr th:only-of-type {\n",
       "        vertical-align: middle;\n",
       "    }\n",
       "\n",
       "    .dataframe tbody tr th {\n",
       "        vertical-align: top;\n",
       "    }\n",
       "\n",
       "    .dataframe thead th {\n",
       "        text-align: right;\n",
       "    }\n",
       "</style>\n",
       "<table border=\"1\" class=\"dataframe\">\n",
       "  <thead>\n",
       "    <tr style=\"text-align: right;\">\n",
       "      <th>EnsEMBL_Gene_ID</th>\n",
       "      <th>ENSG00000000003</th>\n",
       "      <th>ENSG00000001167</th>\n",
       "      <th>ENSG00000005471</th>\n",
       "      <th>ENSG00000066629</th>\n",
       "      <th>ENSG00000154258</th>\n",
       "      <th>ENSG00000154262</th>\n",
       "      <th>ENSG00000154263</th>\n",
       "      <th>ENSG00000154265</th>\n",
       "      <th>ENSG00000154269</th>\n",
       "      <th>ENSG00000154274</th>\n",
       "      <th>...</th>\n",
       "      <th>ENSG00000154188</th>\n",
       "      <th>ENSG00000154198</th>\n",
       "      <th>ENSG00000154217</th>\n",
       "      <th>ENSG00000154222</th>\n",
       "      <th>ENSG00000154227</th>\n",
       "      <th>ENSG00000154229</th>\n",
       "      <th>ENSG00000154237</th>\n",
       "      <th>ENSG00000154240</th>\n",
       "      <th>ENSG00000154251</th>\n",
       "      <th>ENSG00000154252</th>\n",
       "    </tr>\n",
       "  </thead>\n",
       "  <tbody>\n",
       "    <tr>\n",
       "      <th>AU565</th>\n",
       "      <td>13.460144</td>\n",
       "      <td>68.907655</td>\n",
       "      <td>2.976117</td>\n",
       "      <td>15.084108</td>\n",
       "      <td>0.000000</td>\n",
       "      <td>0.000000</td>\n",
       "      <td>0.079746</td>\n",
       "      <td>3.017549</td>\n",
       "      <td>0.217142</td>\n",
       "      <td>28.473352</td>\n",
       "      <td>...</td>\n",
       "      <td>1.526250</td>\n",
       "      <td>1.049567</td>\n",
       "      <td>19.559808</td>\n",
       "      <td>77.265886</td>\n",
       "      <td>0.000000</td>\n",
       "      <td>51.196873</td>\n",
       "      <td>3.121563</td>\n",
       "      <td>0.222417</td>\n",
       "      <td>0.224694</td>\n",
       "      <td>3.185827</td>\n",
       "    </tr>\n",
       "    <tr>\n",
       "      <th>HCC1143</th>\n",
       "      <td>216.930143</td>\n",
       "      <td>285.900419</td>\n",
       "      <td>0.000000</td>\n",
       "      <td>16.952487</td>\n",
       "      <td>0.102304</td>\n",
       "      <td>0.060849</td>\n",
       "      <td>0.101803</td>\n",
       "      <td>5.663746</td>\n",
       "      <td>0.204348</td>\n",
       "      <td>2.179692</td>\n",
       "      <td>...</td>\n",
       "      <td>0.000000</td>\n",
       "      <td>0.000000</td>\n",
       "      <td>76.110740</td>\n",
       "      <td>40.020894</td>\n",
       "      <td>0.000000</td>\n",
       "      <td>51.165867</td>\n",
       "      <td>38.674515</td>\n",
       "      <td>48.908626</td>\n",
       "      <td>40.042918</td>\n",
       "      <td>0.000000</td>\n",
       "    </tr>\n",
       "    <tr>\n",
       "      <th>HCC1395</th>\n",
       "      <td>96.785401</td>\n",
       "      <td>347.992398</td>\n",
       "      <td>0.054333</td>\n",
       "      <td>97.143133</td>\n",
       "      <td>0.207510</td>\n",
       "      <td>0.082464</td>\n",
       "      <td>0.274115</td>\n",
       "      <td>9.425963</td>\n",
       "      <td>0.069234</td>\n",
       "      <td>1.163765</td>\n",
       "      <td>...</td>\n",
       "      <td>83.129169</td>\n",
       "      <td>0.000000</td>\n",
       "      <td>89.520007</td>\n",
       "      <td>29.160701</td>\n",
       "      <td>0.410169</td>\n",
       "      <td>80.279190</td>\n",
       "      <td>2.983126</td>\n",
       "      <td>2.149875</td>\n",
       "      <td>24.033986</td>\n",
       "      <td>0.000000</td>\n",
       "    </tr>\n",
       "    <tr>\n",
       "      <th>HCC1419</th>\n",
       "      <td>6.847876</td>\n",
       "      <td>98.756895</td>\n",
       "      <td>2.402739</td>\n",
       "      <td>34.884041</td>\n",
       "      <td>0.097948</td>\n",
       "      <td>0.116005</td>\n",
       "      <td>1.160639</td>\n",
       "      <td>17.628333</td>\n",
       "      <td>16.991243</td>\n",
       "      <td>45.617551</td>\n",
       "      <td>...</td>\n",
       "      <td>0.000000</td>\n",
       "      <td>24.516809</td>\n",
       "      <td>48.953813</td>\n",
       "      <td>95.270912</td>\n",
       "      <td>2.324565</td>\n",
       "      <td>1.276649</td>\n",
       "      <td>33.744973</td>\n",
       "      <td>0.000000</td>\n",
       "      <td>82.585739</td>\n",
       "      <td>144.835135</td>\n",
       "    </tr>\n",
       "    <tr>\n",
       "      <th>HCC1428</th>\n",
       "      <td>43.965782</td>\n",
       "      <td>162.757442</td>\n",
       "      <td>2.713846</td>\n",
       "      <td>79.282346</td>\n",
       "      <td>0.000000</td>\n",
       "      <td>0.000000</td>\n",
       "      <td>0.041734</td>\n",
       "      <td>20.237258</td>\n",
       "      <td>0.676882</td>\n",
       "      <td>156.145039</td>\n",
       "      <td>...</td>\n",
       "      <td>0.122677</td>\n",
       "      <td>6.645991</td>\n",
       "      <td>480.362749</td>\n",
       "      <td>62.865207</td>\n",
       "      <td>0.063281</td>\n",
       "      <td>1.676753</td>\n",
       "      <td>4.347457</td>\n",
       "      <td>0.689206</td>\n",
       "      <td>63.944153</td>\n",
       "      <td>1.103798</td>\n",
       "    </tr>\n",
       "  </tbody>\n",
       "</table>\n",
       "<p>5 rows × 36953 columns</p>\n",
       "</div>"
      ],
      "text/plain": [
       "EnsEMBL_Gene_ID  ENSG00000000003  ENSG00000001167  ENSG00000005471  \\\n",
       "AU565                  13.460144        68.907655         2.976117   \n",
       "HCC1143               216.930143       285.900419         0.000000   \n",
       "HCC1395                96.785401       347.992398         0.054333   \n",
       "HCC1419                 6.847876        98.756895         2.402739   \n",
       "HCC1428                43.965782       162.757442         2.713846   \n",
       "\n",
       "EnsEMBL_Gene_ID  ENSG00000066629  ENSG00000154258  ENSG00000154262  \\\n",
       "AU565                  15.084108         0.000000         0.000000   \n",
       "HCC1143                16.952487         0.102304         0.060849   \n",
       "HCC1395                97.143133         0.207510         0.082464   \n",
       "HCC1419                34.884041         0.097948         0.116005   \n",
       "HCC1428                79.282346         0.000000         0.000000   \n",
       "\n",
       "EnsEMBL_Gene_ID  ENSG00000154263  ENSG00000154265  ENSG00000154269  \\\n",
       "AU565                   0.079746         3.017549         0.217142   \n",
       "HCC1143                 0.101803         5.663746         0.204348   \n",
       "HCC1395                 0.274115         9.425963         0.069234   \n",
       "HCC1419                 1.160639        17.628333        16.991243   \n",
       "HCC1428                 0.041734        20.237258         0.676882   \n",
       "\n",
       "EnsEMBL_Gene_ID  ENSG00000154274  ...  ENSG00000154188  ENSG00000154198  \\\n",
       "AU565                  28.473352  ...         1.526250         1.049567   \n",
       "HCC1143                 2.179692  ...         0.000000         0.000000   \n",
       "HCC1395                 1.163765  ...        83.129169         0.000000   \n",
       "HCC1419                45.617551  ...         0.000000        24.516809   \n",
       "HCC1428               156.145039  ...         0.122677         6.645991   \n",
       "\n",
       "EnsEMBL_Gene_ID  ENSG00000154217  ENSG00000154222  ENSG00000154227  \\\n",
       "AU565                  19.559808        77.265886         0.000000   \n",
       "HCC1143                76.110740        40.020894         0.000000   \n",
       "HCC1395                89.520007        29.160701         0.410169   \n",
       "HCC1419                48.953813        95.270912         2.324565   \n",
       "HCC1428               480.362749        62.865207         0.063281   \n",
       "\n",
       "EnsEMBL_Gene_ID  ENSG00000154229  ENSG00000154237  ENSG00000154240  \\\n",
       "AU565                  51.196873         3.121563         0.222417   \n",
       "HCC1143                51.165867        38.674515        48.908626   \n",
       "HCC1395                80.279190         2.983126         2.149875   \n",
       "HCC1419                 1.276649        33.744973         0.000000   \n",
       "HCC1428                 1.676753         4.347457         0.689206   \n",
       "\n",
       "EnsEMBL_Gene_ID  ENSG00000154251  ENSG00000154252  \n",
       "AU565                   0.224694         3.185827  \n",
       "HCC1143                40.042918         0.000000  \n",
       "HCC1395                24.033986         0.000000  \n",
       "HCC1419                82.585739       144.835135  \n",
       "HCC1428                63.944153         1.103798  \n",
       "\n",
       "[5 rows x 36953 columns]"
      ]
     },
     "execution_count": 4,
     "metadata": {},
     "output_type": "execute_result"
    }
   ],
   "source": [
    "gene_expression.head()"
   ]
  },
  {
   "cell_type": "code",
   "execution_count": 3,
   "metadata": {},
   "outputs": [
    {
     "name": "stdout",
     "output_type": "stream",
     "text": [
      "Rows with NaN values in sensitivity data\n",
      "Drug Name  Alpelisib  Lapatinib  Olaparib  Palbociclib  Tamoxifen\n",
      "HCC202           NaN        NaN       NaN     0.828654        NaN\n"
     ]
    }
   ],
   "source": [
    "# Print rows with Nan values for sensitivity data\n",
    "nan_rows = np.isnan(Y).any(axis=1)\n",
    "print(\"Rows with NaN values in sensitivity data\")\n",
    "print(sensitivity_pivot[nan_rows])"
   ]
  },
  {
   "cell_type": "code",
   "execution_count": 6,
   "metadata": {},
   "outputs": [
    {
     "name": "stdout",
     "output_type": "stream",
     "text": [
      "Number of NaNs in X: 0\n",
      "Number of NaNs in Y: 4\n"
     ]
    }
   ],
   "source": [
    "# Check for NaNs in X and Y\n",
    "print(f\"Number of NaNs in X: {pd.DataFrame(X).isna().sum().sum()}\")\n",
    "print(f\"Number of NaNs in Y: {pd.DataFrame(Y).isna().sum().sum()}\")\n",
    "\n",
    "# Substitute NaNs with 0 for 0 sensitivity\n",
    "Y = np.nan_to_num(Y, nan=0)"
   ]
  },
  {
   "cell_type": "code",
   "execution_count": 7,
   "metadata": {},
   "outputs": [
    {
     "name": "stdout",
     "output_type": "stream",
     "text": [
      "Correlations: [[ 1.18500009e-15  1.84084629e-16  7.79500493e-16  1.00000000e+00\n",
      "   2.42596988e-17  7.31730247e-16 -4.51857140e-16  7.07722689e-16]\n",
      " [-4.09771835e-16 -1.96552720e-16 -5.40452097e-17  2.26249476e-16\n",
      "   1.00000000e+00 -8.13575225e-16 -5.77491821e-16  6.12291163e-16]]\n"
     ]
    }
   ],
   "source": [
    "# Perform Canonical Correlation Analysis (CCA)\n",
    "cca = CCA(n_components=5)\n",
    "cca.fit(X, Y)\n",
    "X_c, Y_c = cca.transform(X, Y)\n",
    "\n",
    "# Calculate the canonical correlation coefficients\n",
    "correlations = np.corrcoef(X_c.T, Y_c.T)[:2, 2:]\n",
    "\n",
    "print(f\"Correlations: {correlations}\")"
   ]
  },
  {
   "cell_type": "markdown",
   "metadata": {},
   "source": [
    "The result corresponds to the analysis for the whole 5 drugs. A different correlation is expected when isolating the data."
   ]
  },
  {
   "cell_type": "code",
   "execution_count": 11,
   "metadata": {},
   "outputs": [],
   "source": [
    "# TODO: Check if X or Y have very low variance - might reduce the meaningful correlations captured by CCA.\n",
    "# TODO: A value of exactly 1.0 was expected - the first canonical component often represents the strongest possible correlation."
   ]
  },
  {
   "cell_type": "code",
   "execution_count": 13,
   "metadata": {},
   "outputs": [
    {
     "name": "stdout",
     "output_type": "stream",
     "text": [
      "Canonical Correlation Coefficients: [1. 1. 1. 1. 1.]\n"
     ]
    }
   ],
   "source": [
    "# Transform the datasets into canonical components\n",
    "X_c, Y_c = cca.transform(X, Y)\n",
    "n_components = min(X.shape[1], Y.shape[1])\n",
    "# Compute canonical correlations\n",
    "correlations = np.corrcoef(X_c.T, Y_c.T)[:n_components, n_components:]\n",
    "print(\"Canonical Correlation Coefficients:\", np.diag(correlations))"
   ]
  },
  {
   "cell_type": "code",
   "execution_count": null,
   "metadata": {},
   "outputs": [],
   "source": [
    "# If the sample size is smaller than the number of features in X or Y, the CCA will find relationships that perfectly fit the data?"
   ]
  },
  {
   "cell_type": "code",
   "execution_count": null,
   "metadata": {},
   "outputs": [],
   "source": [
    "from sklearn.decomposition import PCA\n",
    "from sklearn.preprocessing import StandardScaler\n",
    "\n",
    "scaler = StandardScaler()\n",
    "X_scaled = scaler.fit_transform(X)\n",
    "Y_scaled = scaler.fit_transform(Y)\n",
    "\n",
    "pca = PCA(n_components=min(X.shape[0] - 1, X.shape[1]))\n",
    "X_reduced = pca.fit_transform(X_scaled)\n",
    "# Y_reduced = pca.fit_transform(Y_scaled)"
   ]
  },
  {
   "cell_type": "code",
   "execution_count": null,
   "metadata": {},
   "outputs": [],
   "source": [
    "from sklearn.model_selection import train_test_split\n",
    "\n",
    "# To prevent overfitting, we split your dataset into training and testing sets and evaluate the correlations on the test set:\n",
    "X_train, X_test, Y_train, Y_test = train_test_split(\n",
    "    X_scaled, Y_scaled, test_size=0.3, random_state=42\n",
    ")\n",
    "\n",
    "# Fit CCA on the training data\n",
    "cca.fit(X_train, Y_train)\n",
    "\n",
    "# Evaluate on the test data\n",
    "X_test_c, Y_test_c = cca.transform(X_test, Y_test)\n",
    "test_correlations = np.corrcoef(X_test_c.T, Y_test_c.T)[\n",
    "    : cca.n_components, cca.n_components :\n",
    "]\n",
    "print(\"Test Correlations:\", np.diag(test_correlations))"
   ]
  },
  {
   "cell_type": "code",
   "execution_count": 17,
   "metadata": {},
   "outputs": [
    {
     "name": "stdout",
     "output_type": "stream",
     "text": [
      "  Cell Line    Drug Name   Z Score\n",
      "0     AU565    Lapatinib -2.583650\n",
      "1     AU565    Alpelisib -0.925285\n",
      "2     AU565    Tamoxifen -0.872274\n",
      "3     AU565  Palbociclib -0.147910\n",
      "4     AU565     Olaparib  0.179425\n"
     ]
    }
   ],
   "source": [
    "print(ccaman.sensitivity_data.head())"
   ]
  },
  {
   "cell_type": "code",
   "execution_count": 18,
   "metadata": {},
   "outputs": [
    {
     "name": "stdout",
     "output_type": "stream",
     "text": [
      "                     184A1      184B5       21MT1       21MT2        21NT  \\\n",
      "EnsEMBL_Gene_ID                                                             \n",
      "ENSG00000000003  95.212548  95.698676   19.994674   65.686376   44.057746   \n",
      "ENSG00000001167  89.512619  94.154375  245.433541  216.487072  286.092419   \n",
      "ENSG00000005471   0.000000   0.172734    0.231762    0.099938    0.000000   \n",
      "ENSG00000066629  24.701397   7.633869    5.842132    6.773438    5.149179   \n",
      "ENSG00000154258   0.000000   2.683498    0.000000    0.031877    0.000000   \n",
      "\n",
      "                       21PT      600MPE      AU565       BT474       BT483  \\\n",
      "EnsEMBL_Gene_ID                                                              \n",
      "ENSG00000000003   34.317565  178.158832  13.460144   37.879666   69.092581   \n",
      "ENSG00000001167  289.298295  125.193255  68.907655  167.815672  152.752421   \n",
      "ENSG00000005471    0.000000    0.757785   2.976117    1.210384    1.670807   \n",
      "ENSG00000066629    7.432176   29.604076  15.084108   30.669290  135.100074   \n",
      "ENSG00000154258    0.000000    0.652424   0.000000    0.065451    0.000000   \n",
      "\n",
      "                 ...    SUM229PE     SUM52PE       T47D   T47DKBluc  \\\n",
      "EnsEMBL_Gene_ID  ...                                                  \n",
      "ENSG00000000003  ...   39.425097  129.418091  82.748694   73.387310   \n",
      "ENSG00000001167  ...  111.108369  102.457186  61.650437  106.114416   \n",
      "ENSG00000005471  ...    0.000000    0.784523   1.261100    0.536226   \n",
      "ENSG00000066629  ...    0.604542   90.533172  74.463574   34.619613   \n",
      "ENSG00000154258  ...    0.096449    0.199749   0.000000    0.000000   \n",
      "\n",
      "                    UACC812     UACC893      ZR751      ZR7530      ZR75B  \\\n",
      "EnsEMBL_Gene_ID                                                             \n",
      "ENSG00000000003   26.579280   50.676579  31.812999  121.459918   2.293898   \n",
      "ENSG00000001167  138.140311  106.342032  68.458022   73.910964  61.625519   \n",
      "ENSG00000005471    0.440649    0.066213   0.548865    0.611036   0.556531   \n",
      "ENSG00000066629   79.187879    0.058835  25.493800   25.917323  32.528112   \n",
      "ENSG00000154258    0.040907    0.021120   0.000000    0.033571   0.177808   \n",
      "\n",
      "                   MDAMB453  \n",
      "EnsEMBL_Gene_ID              \n",
      "ENSG00000000003    2.025956  \n",
      "ENSG00000001167  136.161392  \n",
      "ENSG00000005471    0.087010  \n",
      "ENSG00000066629    0.000000  \n",
      "ENSG00000154258    0.000000  \n",
      "\n",
      "[5 rows x 56 columns]\n"
     ]
    }
   ],
   "source": [
    "print(ccaman.genes_to_cellline.head())"
   ]
  },
  {
   "cell_type": "code",
   "execution_count": null,
   "metadata": {},
   "outputs": [
    {
     "name": "stdout",
     "output_type": "stream",
     "text": [
      "['AU565' 'HCC1143' 'HCC1395' 'HCC1419' 'HCC1428' 'HCC1569' 'HCC1599'\n",
      " 'HCC18064' 'HCC1937' 'HCC1954' 'HCC202' 'HCC2218' 'HCC38' 'HCC70' 'MCF7'\n",
      " 'T47D']\n"
     ]
    }
   ],
   "source": []
  }
 ],
 "metadata": {
  "kernelspec": {
   "display_name": "cca_env_python",
   "language": "python",
   "name": "python3"
  },
  "language_info": {
   "codemirror_mode": {
    "name": "ipython",
    "version": 3
   },
   "file_extension": ".py",
   "mimetype": "text/x-python",
   "name": "python",
   "nbconvert_exporter": "python",
   "pygments_lexer": "ipython3",
   "version": "3.11.9"
  }
 },
 "nbformat": 4,
 "nbformat_minor": 2
}
