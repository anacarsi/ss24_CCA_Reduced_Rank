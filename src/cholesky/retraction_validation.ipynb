{
 "cells": [
  {
   "cell_type": "markdown",
   "metadata": {},
   "source": [
    "# Cholesky QR-based retraction \n",
    "### Test and compare with the Polar-based retraction on the generalized Stiefel manifold in terms of computational time and accuracy."
   ]
  },
  {
   "cell_type": "markdown",
   "metadata": {},
   "source": [
    "#### 1. Set-Up the Generalized Stiefel Manifold\n"
   ]
  },
  {
   "cell_type": "code",
   "execution_count": null,
   "metadata": {},
   "outputs": [],
   "source": []
  },
  {
   "cell_type": "markdown",
   "metadata": {},
   "source": []
  },
  {
   "cell_type": "code",
   "execution_count": null,
   "metadata": {},
   "outputs": [],
   "source": []
  },
  {
   "cell_type": "markdown",
   "metadata": {},
   "source": []
  },
  {
   "cell_type": "markdown",
   "metadata": {},
   "source": [
    "Created with a randomly generated symmetric positive definite matrix G and random points X on the manifold."
   ]
  },
  {
   "cell_type": "code",
   "execution_count": 7,
   "metadata": {},
   "outputs": [],
   "source": [
    "import numpy as np\n",
    "from scipy.linalg import cholesky, qr\n",
    "\n",
    "def generate_spd_matrix(n: int) -> np.ndarray:\n",
    "    \"\"\"\n",
    "    Function to generate a random symmetric positive definite matrix G of size n x n\n",
    "\n",
    "    Parameters\n",
    "    ----------\n",
    "    n : int\n",
    "        Size of the matrix\n",
    "\n",
    "    Returns\n",
    "    -------\n",
    "    np.ndarray\n",
    "        Random symmetric positive definite matrix of size n x n\n",
    "    \"\"\"\n",
    "    G0 = np.random.randn(n, n)\n",
    "    G = G0.T @ G0\n",
    "    return G\n",
    "\n",
    "def generate_random_point_on_stiefel(n: int, p: int) -> np.ndarray:\n",
    "    \"\"\"\n",
    "    Function to generate a random point X on StG(p, n)\n",
    "\n",
    "    Parameters\n",
    "    ----------\n",
    "    n : int\n",
    "        Number of rows of the matrix\n",
    "    p : int\n",
    "        Number of columns of the matrix\n",
    "    \n",
    "    Returns\n",
    "    -------\n",
    "    np.ndarray\n",
    "        Random point X on StG(p, n)\n",
    "    \"\"\"\n",
    "    X, _ = qr(np.random.randn(n, p), mode='economic')  # QR decomposition gives a random point\n",
    "    return X\n",
    "\n",
    "def generate_random_tangent_vector(X: np.ndarray, G: np.ndarray) -> np.ndarray:\n",
    "    \"\"\"\n",
    "    Function to generate a random tangent vector at X on StG(p, n)\n",
    "\n",
    "    Parameters\n",
    "    ----------\n",
    "    X : np.ndarray\n",
    "        Point on StG(p, n)\n",
    "    G : np.ndarray\n",
    "        Symmetric positive definite matrix of size n x n\n",
    "    \n",
    "    Returns\n",
    "    -------\n",
    "    np.ndarray\n",
    "        Random tangent vector at X\n",
    "    \"\"\"\n",
    "    n, p = X.shape\n",
    "    random_matrix = np.random.randn(n, p)\n",
    "    tangent_vector = random_matrix - X @ (X.T @ G @ random_matrix)  # Tangent vector at X\n",
    "    return tangent_vector\n"
   ]
  },
  {
   "cell_type": "markdown",
   "metadata": {},
   "source": [
    "#### 2. Implement the Colesky QR-based retraction"
   ]
  },
  {
   "cell_type": "code",
   "execution_count": 8,
   "metadata": {},
   "outputs": [],
   "source": [
    "def cholesky_qr_retraction(X: np.ndarray, G: np.ndarray, xi: np.ndarray) -> np.ndarray:\n",
    "    \"\"\"\n",
    "    Function to compute the retraction of a tangent vector xi at X on StG(p, n) using Cholesky-QR retraction\n",
    "\n",
    "    Parameters\n",
    "    ----------\n",
    "    X : np.ndarray\n",
    "        Point on StG(p, n)\n",
    "    G : np.ndarray\n",
    "        Symmetric positive definite matrix of size n x n\n",
    "    xi : np.ndarray\n",
    "        Tangent vector at X\n",
    "\n",
    "    Returns\n",
    "    -------\n",
    "    np.ndarray\n",
    "        Retracted point on StG(p, n)\n",
    "    \"\"\"\n",
    "    Z = (X + xi).T @ G @ (X + xi)  # Z = (X + xi)^T G (X + xi)\n",
    "    L = cholesky(Z)  # Cholesky factorization Z = LL^T\n",
    "    retracted_point = (X + xi) @ np.linalg.inv(L.T)  # X_next = (X + xi) L^(-T)\n",
    "    return retracted_point\n"
   ]
  },
  {
   "cell_type": "markdown",
   "metadata": {},
   "source": [
    "#### 3. Implement the Polar-based Retraction"
   ]
  },
  {
   "cell_type": "code",
   "execution_count": 9,
   "metadata": {},
   "outputs": [],
   "source": [
    "from scipy.linalg import polar\n",
    "\n",
    "def polar_retraction(X: np.ndarray, G: np.ndarray, xi: np.ndarray) -> np.ndarray:\n",
    "    \"\"\"\n",
    "    Function to compute the retraction of a tangent vector xi at X on StG(p, n) using Polar retraction\n",
    "\n",
    "    Parameters\n",
    "    ----------\n",
    "    X : np.ndarray\n",
    "        Point on StG(p, n)\n",
    "    G : np.ndarray\n",
    "        Symmetric positive definite matrix of size n x n\n",
    "    xi : np.ndarray\n",
    "        Tangent vector at X\n",
    "    \n",
    "    Returns\n",
    "    -------\n",
    "    np.ndarray\n",
    "        Retracted point on StG(p, n)\n",
    "    \"\"\"\n",
    "    Z = (X + xi).T @ G @ (X + xi)  # Z = (X + xi)^T G (X + xi)\n",
    "    U, _ = polar(Z)  # Polar decomposition of Z\n",
    "    retracted_point = (X + xi) @ np.linalg.inv(U.T)  # Retract using U (polar factor)\n",
    "    return retracted_point\n"
   ]
  },
  {
   "cell_type": "markdown",
   "metadata": {},
   "source": [
    "#### 4. Test and compare"
   ]
  },
  {
   "cell_type": "code",
   "execution_count": 10,
   "metadata": {},
   "outputs": [],
   "source": [
    "import time\n",
    "import logging\n",
    "\n",
    "import json\n",
    "import time\n",
    "\n",
    "def write_to_file(filename: str, data: dict):\n",
    "    \"\"\"\n",
    "    Function to write the data to a file\n",
    "\n",
    "    Parameters\n",
    "    ----------\n",
    "    filename : str\n",
    "        Name of the file\n",
    "    data : dict\n",
    "        Data to be written to the file\n",
    "    \"\"\"\n",
    "    with open(filename, 'w') as file:\n",
    "        json.dump(data, file, indent=4)  # Save the data as JSON for readability\n",
    "\n",
    "def test_retraction_performance(n: int, p_values: list):\n",
    "    \"\"\"\n",
    "    Function to test the performance of Cholesky QR-based retraction and Polar-based retraction\n",
    "\n",
    "    Parameters\n",
    "    ----------\n",
    "    n : int\n",
    "        Number of rows of the matrix\n",
    "    p_values : list\n",
    "        List of number of columns of the matri\n",
    "    \n",
    "    Returns\n",
    "    -------\n",
    "    None\n",
    "    \"\"\"\n",
    "    G = generate_spd_matrix(n)\n",
    "    results = {}  # Store all results in memory\n",
    "\n",
    "    for p in p_values:\n",
    "        print(f\"Testing for n = {n}, p = {p}\")\n",
    "        X = generate_random_point_on_stiefel(n, p)\n",
    "        xi = generate_random_tangent_vector(X, G)\n",
    "\n",
    "        start_time = time.time()\n",
    "        X_chol = cholesky_qr_retraction(X, G, xi)\n",
    "        chol_time = time.time() - start_time\n",
    "\n",
    "        start_time = time.time()\n",
    "        X_polar = polar_retraction(X, G, xi)\n",
    "        polar_time = time.time() - start_time\n",
    "\n",
    "        # Check orthogonality constraints X^T G X = I_p\n",
    "        chol_accuracy = np.linalg.norm(X_chol.T @ G @ X_chol - np.eye(p))\n",
    "        polar_accuracy = np.linalg.norm(X_polar.T @ G @ X_polar - np.eye(p))\n",
    "\n",
    "        # Save the results for this iteration\n",
    "        results[f\"n={n}, p={p}\"] = {\n",
    "            \"Cholesky QR-based retraction\": {\"Time\": chol_time, \"Accuracy\": chol_accuracy},\n",
    "            \"Polar-based retraction\": {\"Time\": polar_time, \"Accuracy\": polar_accuracy}\n",
    "        }\n",
    "        print(f\"Cholesky QR-based retraction: Time = {chol_time:.4f}s, Accuracy = {chol_accuracy:.2e}\")\n",
    "        print(f\"Polar-based retraction: Time = {polar_time:.4f}s, Accuracy = {polar_accuracy:.2e}\\n\")\n",
    "\n",
    "    write_to_file(f\"results.json\", results)\n",
    "\n",
    "\n",
    "    \n",
    "    \n"
   ]
  },
  {
   "cell_type": "code",
   "execution_count": 20,
   "metadata": {},
   "outputs": [],
   "source": [
    "import matplotlib.pyplot as plt\n",
    "\n",
    "def plot_retraction_performance():\n",
    "    \"\"\" \n",
    "    Function to plot the performance of Cholesky QR-based retraction and Polar-based retraction\n",
    "    \"\"\"\n",
    "    with open(\"results.json\", 'r') as file:\n",
    "        results = json.load(file)\n",
    "    \n",
    "    p_values = []\n",
    "    chol_times = []\n",
    "    polar_times = []\n",
    "    chol_accuracies = []\n",
    "    polar_accuracies = []\n",
    "\n",
    "    for key, result in results.items():\n",
    "        p = int(key.split(\", p=\")[1])\n",
    "        p_values.append(p)\n",
    "        chol_times.append(result[\"Cholesky QR-based retraction\"][\"Time\"])\n",
    "        polar_times.append(result[\"Polar-based retraction\"][\"Time\"])\n",
    "        chol_accuracies.append(result[\"Cholesky QR-based retraction\"][\"Accuracy\"])\n",
    "        polar_accuracies.append(result[\"Polar-based retraction\"][\"Time\"])\n",
    "    \n",
    "    plt.figure(figsize=(24, 12))\n",
    "    plt.subplot(1, 2, 1)\n",
    "    plt.plot(p_values, chol_times, 'o-', label=\"Cholesky QR-based retraction\", color = 'lightpink')\n",
    "    plt.plot(p_values, polar_times, 'o-', label=\"Polar-based retraction\", color = 'lightblue')\n",
    "    plt.xlabel(\"p\")\n",
    "    plt.ylabel(\"Time (s)\")\n",
    "    plt.title(\"Performance of Retraction Methods\", fontsize=14, fontweight='bold')\n",
    "    plt.legend()\n",
    "    plt.show()\n"
   ]
  },
  {
   "cell_type": "code",
   "execution_count": 12,
   "metadata": {},
   "outputs": [
    {
     "name": "stdout",
     "output_type": "stream",
     "text": [
      "Testing for n = 10000, p = 100\n",
      "Cholesky QR-based retraction: Time = 0.3380s, Accuracy = 2.21e+06\n",
      "Polar-based retraction: Time = 0.3417s, Accuracy = 2.94e+15\n",
      "\n",
      "Testing for n = 10000, p = 200\n",
      "Cholesky QR-based retraction: Time = 0.6105s, Accuracy = 1.84e+06\n",
      "Polar-based retraction: Time = 0.8846s, Accuracy = 8.48e+15\n",
      "\n",
      "Testing for n = 10000, p = 500\n",
      "Cholesky QR-based retraction: Time = 1.5443s, Accuracy = 1.92e+05\n",
      "Polar-based retraction: Time = 2.0526s, Accuracy = 3.65e+16\n",
      "\n",
      "Testing for n = 10000, p = 1000\n",
      "Cholesky QR-based retraction: Time = 3.3120s, Accuracy = 1.67e+06\n",
      "Polar-based retraction: Time = 5.4589s, Accuracy = 1.18e+17\n",
      "\n",
      "Testing for n = 10000, p = 2000\n",
      "Cholesky QR-based retraction: Time = 8.0414s, Accuracy = 7.61e+07\n",
      "Polar-based retraction: Time = 14.0886s, Accuracy = 4.12e+17\n",
      "\n"
     ]
    }
   ],
   "source": [
    "n = 10000  # Large value for n\n",
    "p_values = [100, 200, 500, 1000, 2000]  # Different values for p\n",
    "test_retraction_performance(n, p_values)\n"
   ]
  },
  {
   "cell_type": "code",
   "execution_count": 21,
   "metadata": {},
   "outputs": [
    {
     "data": {
      "image/png": "[encoded data removed]",
      "text/plain": [
       "<Figure size 2400x1200 with 1 Axes>"
      ]
     },
     "metadata": {},
     "output_type": "display_data"
    }
   ],
   "source": [
    "plot_retraction_performance()"
   ]
  }
 ],
 "metadata": {
  "kernelspec": {
   "display_name": "cca_env_python",
   "language": "python",
   "name": "python3"
  },
  "language_info": {
   "codemirror_mode": {
    "name": "ipython",
    "version": 3
   },
   "file_extension": ".py",
   "mimetype": "text/x-python",
   "name": "python",
   "nbconvert_exporter": "python",
   "pygments_lexer": "ipython3",
   "version": "3.11.9"
  }
 },
 "nbformat": 4,
 "nbformat_minor": 2
}
