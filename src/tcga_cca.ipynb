{
 "cells": [
  {
   "cell_type": "markdown",
   "metadata": {},
   "source": [
    "## TCGA Dataset - The Cancer Genome Atlas Program"
   ]
  },
  {
   "cell_type": "markdown",
   "metadata": {},
   "source": [
    "The file to analyse 4e2f3a20-e8a2-4711-995a-c97261572dc3.rna_seq.augmented_star_gene_counts.tsv is a gene expression quantification file from RNA-Seq data.\n",
    "It contains gene counts data from the TARGET-AML project. The data is from a primary blood-derived cancer bone marrow sample, processed using the STAR-Counts workflow.\n",
    "\n",
    "The reference genome used was GRCh38.p0\n",
    "\n",
    "Research datasets found on https://www.cancer.gov/ccg/access-data\n"
   ]
  },
  {
   "cell_type": "code",
   "execution_count": 39,
   "metadata": {},
   "outputs": [
    {
     "name": "stdout",
     "output_type": "stream",
     "text": [
      "File contents:\n",
      "[\n",
      "  {\n",
      "    \"uuid\": \"b11b5fbe-8e5e-402d-9a14-cd2656beb88c\",\n",
      "    \"version\": \"1\",\n",
      "    \"file_change\": \"released\",\n",
      "    \"release_date\": \"2022-09-28\",\n",
      "    \"data_release\": \"35.0\"\n",
      "  }\n",
      "]\n",
      "{'uuid': 'b11b5fbe-8e5e-402d-9a14-cd2656beb88c', 'version': '1', 'file_change': 'released', 'release_date': '2022-09-28', 'data_release': '35.0'}\n"
     ]
    }
   ],
   "source": [
    "# Reading the metadata from a JSON file\n",
    "import pandas as pd\n",
    "import json\n",
    "import os\n",
    "from sklearn.cross_decomposition import CCA\n",
    "from sklearn.preprocessing import StandardScaler\n",
    "import matplotlib.pyplot as plt\n",
    "\n",
    "# Go up one directory level and then into the data folder\n",
    "file_path = os.path.join('..', 'data', 'b11b5fbe-8e5e-402d-9a14-cd2656beb88c_history.2024-10-05.json')\n",
    "\n",
    "try:\n",
    "    with open(file_path, 'r') as file:\n",
    "        data = json.load(file)\n",
    "    \n",
    "    print(\"File contents:\")\n",
    "    print(json.dumps(data, indent=2))\n",
    "\n",
    "    for item in data:\n",
    "        print(item)\n",
    "\n",
    "except FileNotFoundError:\n",
    "    print(f\"Error: The file '{file_path}' was not found.\")\n",
    "except json.JSONDecodeError:\n",
    "    print(f\"Error: The file '{file_path}' does not contain valid JSON.\")\n",
    "except Exception as e:\n",
    "    print(f\"An error occurred: {str(e)}\")\n"
   ]
  },
  {
   "cell_type": "code",
   "execution_count": 44,
   "metadata": {},
   "outputs": [
    {
     "name": "stdout",
     "output_type": "stream",
     "text": [
      "              gene_id gene_name       gene_type  unstranded  stranded_first  \\\n",
      "4  ENSG00000000003.15    TSPAN6  protein_coding           3               1   \n",
      "5   ENSG00000000005.6      TNMD  protein_coding           0               0   \n",
      "6  ENSG00000000419.13      DPM1  protein_coding         358               3   \n",
      "7  ENSG00000000457.14     SCYL3  protein_coding         759             249   \n",
      "8  ENSG00000000460.17  C1orf112  protein_coding         434             172   \n",
      "\n",
      "   stranded_second  tpm_unstranded  fpkm_unstranded  fpkm_uq_unstranded  \n",
      "4                2          0.0807           0.0225              0.0212  \n",
      "5                0          0.0000           0.0000              0.0000  \n",
      "6              360         36.2052          10.0711              9.5158  \n",
      "7              797         13.4604           3.7442              3.5378  \n",
      "8              566          8.8738           2.4684              2.3323  \n"
     ]
    }
   ],
   "source": [
    "file_path = os.path.join('..', 'data', 'c97261572dc3.rna_seq.augmented_star_gene_counts.tsv')\n",
    "\n",
    "df = pd.read_csv(file_path, sep='\\t', header=0, skiprows=1)\n",
    "numeric_columns = ['unstranded', 'stranded_first', 'stranded_second', 'tpm_unstranded', 'fpkm_unstranded', 'fpkm_uq_unstranded']\n",
    "\n",
    "# Applying conversion to numeric, forcing non-numeric values to NaN\n",
    "df[numeric_columns] = df[numeric_columns].apply(pd.to_numeric, errors='coerce')\n",
    "\n",
    "# Delete rows with NaN in the gene_name column\n",
    "df.dropna(subset=['gene_name'], inplace=True)\n",
    "print(df.head())\n"
   ]
  },
  {
   "cell_type": "markdown",
   "metadata": {},
   "source": [
    "# Variables in the dataset\n",
    "    gene_id: A unique identifier for each gene (ENSG).\n",
    "    gene_name: Name of the gene (e.g., TSPAN6, TNMD).\n",
    "    gene_type: The type of gene (e.g., protein-coding, pseudogene, lncRNA).\n",
    "    Expression Quantifications:\n",
    "        unstranded: Gene expression counts without strand-specific information.\n",
    "        stranded_first: Gene expression counts from the first strand.\n",
    "        stranded_second: Gene expression counts from the second strand.\n",
    "        tpm_unstranded: Transcripts Per Million (TPM) measure for unstranded reads.\n",
    "        fpkm_unstranded: Fragments Per Kilobase of transcript per Million mapped reads (FPKM).\n",
    "        fpkm_uq_unstranded: Upper quartile normalized FPKM."
   ]
  },
  {
   "cell_type": "code",
   "execution_count": 45,
   "metadata": {},
   "outputs": [
    {
     "name": "stdout",
     "output_type": "stream",
     "text": [
      "\n",
      "DataFrame info:\n",
      "<class 'pandas.core.frame.DataFrame'>\n",
      "Index: 60660 entries, 4 to 60663\n",
      "Data columns (total 9 columns):\n",
      " #   Column              Non-Null Count  Dtype  \n",
      "---  ------              --------------  -----  \n",
      " 0   gene_id             60660 non-null  object \n",
      " 1   gene_name           60660 non-null  object \n",
      " 2   gene_type           60660 non-null  object \n",
      " 3   unstranded          60660 non-null  int64  \n",
      " 4   stranded_first      60660 non-null  int64  \n",
      " 5   stranded_second     60660 non-null  int64  \n",
      " 6   tpm_unstranded      60660 non-null  float64\n",
      " 7   fpkm_unstranded     60660 non-null  float64\n",
      " 8   fpkm_uq_unstranded  60660 non-null  float64\n",
      "dtypes: float64(3), int64(3), object(3)\n",
      "memory usage: 4.6+ MB\n",
      "None\n"
     ]
    }
   ],
   "source": [
    "print(\"\\nDataFrame info:\")\n",
    "print(df.info())"
   ]
  },
  {
   "cell_type": "code",
   "execution_count": 46,
   "metadata": {},
   "outputs": [
    {
     "name": "stdout",
     "output_type": "stream",
     "text": [
      "\n",
      "Stats for numeric columns:\n",
      "          unstranded  stranded_first  stranded_second  tpm_unstranded  \\\n",
      "count   60660.000000    60660.000000     60660.000000    60660.000000   \n",
      "mean      523.527465       43.070986       531.010320       16.485328   \n",
      "std      3634.349052      332.399391      3686.687441      483.287058   \n",
      "min         0.000000        0.000000         0.000000        0.000000   \n",
      "25%         0.000000        0.000000         0.000000        0.000000   \n",
      "50%         3.000000        1.000000         1.000000        0.419500   \n",
      "75%        68.000000        7.000000        37.000000        6.385675   \n",
      "max    537940.000000    29292.000000    537366.000000   116154.570100   \n",
      "\n",
      "       fpkm_unstranded  fpkm_uq_unstranded  \n",
      "count     60660.000000        60660.000000  \n",
      "mean          4.585677            4.332844  \n",
      "std         134.434597          127.022487  \n",
      "min           0.000000            0.000000  \n",
      "25%           0.000000            0.000000  \n",
      "50%           0.116700            0.110200  \n",
      "75%           1.776250            1.678350  \n",
      "max       32310.388900        30528.941600  \n",
      "\n",
      "Non-null count for each column: from a total of 60675 rows (in %) \n",
      "gene_id               99.975278\n",
      "gene_name             99.975278\n",
      "gene_type             99.975278\n",
      "unstranded            99.975278\n",
      "stranded_first        99.975278\n",
      "stranded_second       99.975278\n",
      "tpm_unstranded        99.975278\n",
      "fpkm_unstranded       99.975278\n",
      "fpkm_uq_unstranded    99.975278\n",
      "dtype: float64\n"
     ]
    }
   ],
   "source": [
    "print(\"\\nStats for numeric columns:\")\n",
    "print(df.describe())\n",
    "print(f\"\\nNon-null count for each column: from a total of 60675 rows (in %) \\n{df.count()/60675 * 100}\")\n"
   ]
  },
  {
   "cell_type": "code",
   "execution_count": 34,
   "metadata": {},
   "outputs": [
    {
     "name": "stdout",
     "output_type": "stream",
     "text": [
      "\n",
      "Count of different types of gene types:\n",
      "gene_type\n",
      "protein_coding                        19962\n",
      "lncRNA                                16901\n",
      "processed_pseudogene                  10167\n",
      "unprocessed_pseudogene                 2614\n",
      "misc_RNA                               2212\n",
      "snRNA                                  1901\n",
      "miRNA                                  1881\n",
      "TEC                                    1057\n",
      "snoRNA                                  943\n",
      "transcribed_unprocessed_pseudogene      939\n",
      "transcribed_processed_pseudogene        500\n",
      "rRNA_pseudogene                         497\n",
      "IG_V_pseudogene                         187\n",
      "IG_V_gene                               145\n",
      "transcribed_unitary_pseudogene          138\n",
      "TR_V_gene                               106\n",
      "unitary_pseudogene                       98\n",
      "TR_J_gene                                79\n",
      "scaRNA                                   49\n",
      "polymorphic_pseudogene                   48\n",
      "rRNA                                     47\n",
      "IG_D_gene                                37\n",
      "TR_V_pseudogene                          33\n",
      "Mt_tRNA                                  22\n",
      "IG_J_gene                                18\n",
      "pseudogene                               18\n",
      "IG_C_gene                                14\n",
      "IG_C_pseudogene                           9\n",
      "ribozyme                                  8\n",
      "TR_C_gene                                 6\n",
      "sRNA                                      5\n",
      "TR_J_pseudogene                           4\n",
      "TR_D_gene                                 4\n",
      "IG_J_pseudogene                           3\n",
      "Mt_rRNA                                   2\n",
      "translated_processed_pseudogene           2\n",
      "vault_RNA                                 1\n",
      "translated_unprocessed_pseudogene         1\n",
      "scRNA                                     1\n",
      "IG_pseudogene                             1\n",
      "Name: count, dtype: int64\n"
     ]
    }
   ],
   "source": [
    "# Count number of different types of gene types\n",
    "print(\"\\nCount of different types of gene types:\")\n",
    "print(df['gene_type'].value_counts())"
   ]
  },
  {
   "cell_type": "markdown",
   "metadata": {},
   "source": [
    "# Class and Goal Definition\n",
    "\n",
    "Class 1: Protein-coding and Regulatory RNAs\n",
    "\n",
    "    protein_coding\n",
    "    lncRNA (long non-coding RNA)\n",
    "    miRNA (microRNA)\n",
    "    misc_RNA\n",
    "    snRNA (small nuclear RNA)\n",
    "    snoRNA (small nucleolar RNA)\n",
    "    scaRNA (small Cajal body-specific RNA)\n",
    "\n",
    "Class 2: Pseudogenes and Immunoglobulin/T-cell Receptor Genes\n",
    "\n",
    "    processed_pseudogene\n",
    "    unprocessed_pseudogene\n",
    "    transcribed_unprocessed_pseudogene\n",
    "    transcribed_processed_pseudogene\n",
    "    unitary_pseudogene\n",
    "    IG_V_pseudogene\n",
    "    IG_V_gene\n",
    "    TR_V_gene\n",
    "    TR_J_gene\n",
    "    IG_D_gene\n",
    "\n",
    "Rationale for this grouping:\n",
    "\n",
    "    Class 1 focuses on protein-coding genes and regulatory RNAs, which are often directly involved in gene expression regulation and cellular processes. In leukemia research, these gene types are crucial for understanding:\n",
    "        Altered gene expression patterns in leukemic cells\n",
    "        Dysregulation of key signaling pathways\n",
    "        Potential therapeutic targets\n",
    "        miRNA-mediated regulation of leukemia-associated genes\n",
    "    Class 2 includes pseudogenes and immunoglobulin/T-cell receptor genes, which can provide insights into:\n",
    "        Genomic instability in leukemic cells\n",
    "        Potential biomarkers for leukemia subtypes\n",
    "        Immune system involvement in leukemia progression and treatment response\n",
    "        Clonal evolution of leukemic cells\n"
   ]
  },
  {
   "cell_type": "markdown",
   "metadata": {},
   "source": [
    "Goals:\n",
    "1. Identify correlations between protein-coding genes and regulatory RNAs that may be involved in leukemogenesis -> uncover novel relationships between different gene types in leukemia.\n",
    "2. Explore the relationship between immunoglobulin/T-cell receptor gene expression and leukemia subtypes or treatment outcomes."
   ]
  },
  {
   "cell_type": "code",
   "execution_count": 47,
   "metadata": {},
   "outputs": [],
   "source": [
    "# Class 1: Protein-coding and Regulatory RNAs\n",
    "class1_gene_types = ['protein_coding', 'lncRNA', 'miRNA', 'misc_RNA', 'snRNA', 'snoRNA', 'scaRNA']\n",
    "    \n",
    "# Class 2: Pseudogenes and Immunoglobulin/T-cell Receptor Genes\n",
    "class2_gene_types = [\n",
    "    'processed_pseudogene', 'unprocessed_pseudogene', 'transcribed_unprocessed_pseudogene',\n",
    "    'transcribed_processed_pseudogene', 'unitary_pseudogene', 'IG_V_pseudogene', 'IG_V_gene',\n",
    "    'TR_V_gene', 'TR_J_gene', 'IG_D_gene'\n",
    "]"
   ]
  },
  {
   "cell_type": "code",
   "execution_count": 48,
   "metadata": {},
   "outputs": [],
   "source": [
    "class1_df = df[df['gene_type'].isin(class1_gene_types)]\n",
    "class2_df = df[df['gene_type'].isin(class2_gene_types)]\n",
    "\n",
    "class1_expression = class1_df[['unstranded', 'stranded_first', 'stranded_second']].fillna(0)\n",
    "class2_expression = class2_df[['unstranded', 'stranded_first', 'stranded_second']].fillna(0)\n",
    "\n",
    "\n",
    "# Step 1: standardize the data (should center as well but TODO according to paper's formula)\n",
    "scaler = StandardScaler()\n",
    "class1_scaled = scaler.fit_transform(class1_expression)\n",
    "class2_scaled = scaler.fit_transform(class2_expression)\n"
   ]
  },
  {
   "cell_type": "code",
   "execution_count": 50,
   "metadata": {},
   "outputs": [],
   "source": [
    "class1_df = pd.DataFrame(class1_scaled)\n",
    "class2_df = pd.DataFrame(class2_scaled)\n",
    "\n",
    "# Find the minimum number of rows between the two classes\n",
    "min_samples = min(class1_df.shape[0], class2_df.shape[0])\n",
    "\n",
    "# Slice both DataFrames to have the same number of samples (rows)\n",
    "class1_df = class1_df.iloc[:min_samples, :]\n",
    "class2_df = class2_df.iloc[:min_samples, :]"
   ]
  },
  {
   "cell_type": "code",
   "execution_count": 51,
   "metadata": {},
   "outputs": [
    {
     "name": "stdout",
     "output_type": "stream",
     "text": [
      "Canonical Correlation Coefficients for Class 1:\n",
      " [[-0.06835357 -0.06569601]\n",
      " [-0.06846627 -0.06492798]\n",
      " [-0.05125238 -0.05779175]\n",
      " [-0.07563731 -0.01969776]\n",
      " [-0.09115132  0.05200357]]\n",
      "\n",
      "Canonical Correlation Coefficients for Class 2:\n",
      " [[ 0.10330177 -0.0060199 ]\n",
      " [ 0.07305129  0.00591962]\n",
      " [ 0.09995982 -0.00806752]\n",
      " [-0.09007191 -0.09636265]\n",
      " [ 0.09828884 -0.00909134]]\n"
     ]
    }
   ],
   "source": [
    "# Canonical Correlation Analysis\n",
    "cca = CCA(n_components=2)\n",
    "class1_cca, class2_cca = cca.fit_transform(class1_df, class2_df)\n",
    "\n",
    "print(\"Canonical Correlation Coefficients for Class 1:\\n\", class1_cca[:5])\n",
    "print(\"\\nCanonical Correlation Coefficients for Class 2:\\n\", class2_cca[:5])"
   ]
  },
  {
   "cell_type": "code",
   "execution_count": 52,
   "metadata": {},
   "outputs": [
    {
     "data": {
      "image/png": "[encoded data removed]",
      "text/plain": [
       "<Figure size 1000x600 with 1 Axes>"
      ]
     },
     "metadata": {},
     "output_type": "display_data"
    }
   ],
   "source": [
    "plt.figure(figsize=(10, 6))\n",
    "\n",
    "# Plot CCA Component 1 (hotpink)\n",
    "plt.scatter(class1_cca[:, 0], class2_cca[:, 0], label=\"CCA Component 1\", color='hotpink')\n",
    "\n",
    "# Plot CCA Component 2 (lightpink)\n",
    "plt.scatter(class1_cca[:, 1], class2_cca[:, 1], label=\"CCA Component 2\", color='lightpink')\n",
    "\n",
    "plt.title('Canonical Correlation Analysis (Class 1 vs Class 2)', fontsize=16)\n",
    "plt.xlabel('Protein-coding and Regulatory RNAs', fontsize=14)\n",
    "plt.ylabel('Pseudogenes and Immunoglobulin/T-cell Receptor Genes', fontsize=14)\n",
    "\n",
    "plt.legend()\n",
    "plt.show()"
   ]
  }
 ],
 "metadata": {
  "kernelspec": {
   "display_name": "cca_env_python",
   "language": "python",
   "name": "python3"
  },
  "language_info": {
   "codemirror_mode": {
    "name": "ipython",
    "version": 3
   },
   "file_extension": ".py",
   "mimetype": "text/x-python",
   "name": "python",
   "nbconvert_exporter": "python",
   "pygments_lexer": "ipython3",
   "version": "3.11.9"
  }
 },
 "nbformat": 4,
 "nbformat_minor": 2
}
