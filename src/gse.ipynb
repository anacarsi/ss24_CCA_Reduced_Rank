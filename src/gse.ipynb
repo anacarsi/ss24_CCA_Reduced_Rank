{
 "cells": [
  {
   "cell_type": "markdown",
   "metadata": {},
   "source": [
    "## (GSE48213): Identifying gene expression patterns associated with different breast cancer subtypes"
   ]
  },
  {
   "cell_type": "markdown",
   "metadata": {},
   "source": [
    "The dataset includes both treated (estrogen) and control conditions. \n",
    "We use Adaptive CCA to identify differences in gene expression patterns between these conditions over time."
   ]
  },
  {
   "cell_type": "markdown",
   "metadata": {},
   "source": [
    "The time points (1, 2, 4, 8, 12 hours) are not equally spaced, which is common in biological experiments. \n",
    "- Adaptive CCA should handle such non-linear time progressions "
   ]
  },
  {
   "cell_type": "code",
   "execution_count": 1,
   "metadata": {},
   "outputs": [],
   "source": [
    "import os\n",
    "import pandas as pd\n",
    "import numpy as np\n",
    "\n",
    "file_path = os.path.join(os.getcwd(), \"..\", \"data\", \"GSE48213\")"
   ]
  },
  {
   "cell_type": "code",
   "execution_count": null,
   "metadata": {},
   "outputs": [],
   "source": [
    "os.getcwd()"
   ]
  },
  {
   "cell_type": "markdown",
   "metadata": {},
   "source": [
    "Dataset overview:\n",
    "\n",
    "- 56 breast cancer cell lines were profiled\n",
    "- The data represents gene expression levels in these cell lines\n",
    "- Each cell line is in an unperturbed, baseline state\n"
   ]
  },
  {
   "cell_type": "markdown",
   "metadata": {},
   "source": [
    "In current file: \n",
    "\n",
    "1. Column 1 (EnsEMBL_Gene_ID): unique identifier for each gene from the Ensembl database\n",
    "2. Column 2 (e.g., MDAMB453): expression value for each gene in the specific cell line.\n",
    "\n",
    "These are normalized read counts or FPKM/TPM values (Fragments/Transcripts Per Kilobase Million).\n",
    "Higher values indicate higher expression of the gene in that cell line, zero values indicate that the gene is not expressed (or expression is below detection threshold)\n"
   ]
  },
  {
   "cell_type": "code",
   "execution_count": null,
   "metadata": {},
   "outputs": [],
   "source": [
    "from utils.utils import load_data\n",
    "load_data(file_path, os.getcwd())"
   ]
  },
  {
   "cell_type": "code",
   "execution_count": 7,
   "metadata": {},
   "outputs": [],
   "source": [
    "output_file = os.path.join(os.getcwd(), \"combined_data.txt\")\n",
    "data = pd.read_csv(output_file, sep=\"\\t\")"
   ]
  },
  {
   "cell_type": "code",
   "execution_count": null,
   "metadata": {},
   "outputs": [],
   "source": [
    "data.head()"
   ]
  },
  {
   "cell_type": "code",
   "execution_count": null,
   "metadata": {},
   "outputs": [],
   "source": [
    "print(data.shape)\n",
    "print(data.info())\n",
    "print(data.head())"
   ]
  },
  {
   "cell_type": "code",
   "execution_count": null,
   "metadata": {},
   "outputs": [],
   "source": [
    "# Preprocessing\n",
    "print(data.isnull().sum())\n",
    "data = data.dropna()"
   ]
  },
  {
   "cell_type": "code",
   "execution_count": null,
   "metadata": {},
   "outputs": [],
   "source": [
    "# Log2 transform the data (if not already done)\n",
    "data = np.log2(data + 1)\n",
    "\n",
    "# Normalize the data (optional, depending on your analysis needs)\n",
    "from sklearn.preprocessing import StandardScaler\n",
    "scaler = StandardScaler()\n",
    "data_scaled = pd.DataFrame(scaler.fit_transform(data), columns=data.columns, index=data.index)\n"
   ]
  },
  {
   "cell_type": "code",
   "execution_count": null,
   "metadata": {},
   "outputs": [],
   "source": [
    "import matplotlib.pyplot as plt\n",
    "import seaborn as sns\n",
    "# Heatmap of gene expression across cell lines\n",
    "plt.figure(figsize=(12, 8))\n",
    "sns.heatmap(data_scaled.iloc[:100, :], cmap='viridis', xticklabels=False, yticklabels=False)\n",
    "plt.title('Heatmap of Gene Expression (First 100 Genes)')\n",
    "plt.show()\n",
    "\n",
    "# Distribution of gene expression values\n",
    "plt.figure(figsize=(10, 6))\n",
    "data_scaled.mean().hist(bins=50)\n",
    "plt.title('Distribution of Mean Gene Expression Across Cell Lines')\n",
    "plt.xlabel('Mean Expression')\n",
    "plt.ylabel('Frequency')\n",
    "plt.show()\n",
    "\n",
    "# PCA plot\n",
    "from sklearn.decomposition import PCA\n",
    "pca = PCA(n_components=2)\n",
    "pca_result = pca.fit_transform(data_scaled.T)\n",
    "plt.figure(figsize=(10, 8))\n",
    "plt.scatter(pca_result[:, 0], pca_result[:, 1])\n",
    "for i, cell_line in enumerate(data_scaled.columns):\n",
    "    plt.annotate(cell_line, (pca_result[i, 0], pca_result[i, 1]))\n",
    "plt.title('PCA of Cell Lines')\n",
    "plt.xlabel('PC1')\n",
    "plt.ylabel('PC2')\n",
    "plt.show()\n",
    "\n",
    "# Correlation between cell lines\n",
    "correlation = data_scaled.corr()\n",
    "plt.figure(figsize=(12, 10))\n",
    "sns.heatmap(correlation, cmap='coolwarm', center=0)\n",
    "plt.title('Correlation Between Cell Lines')\n",
    "plt.show()\n"
   ]
  }
 ],
 "metadata": {
  "kernelspec": {
   "display_name": "cca_env_python",
   "language": "python",
   "name": "python3"
  },
  "language_info": {
   "codemirror_mode": {
    "name": "ipython",
    "version": 3
   },
   "file_extension": ".py",
   "mimetype": "text/x-python",
   "name": "python",
   "nbconvert_exporter": "python",
   "pygments_lexer": "ipython3",
   "version": "3.11.9"
  }
 },
 "nbformat": 4,
 "nbformat_minor": 2
}
